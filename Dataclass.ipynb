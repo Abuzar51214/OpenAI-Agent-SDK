{
  "nbformat": 4,
  "nbformat_minor": 0,
  "metadata": {
    "colab": {
      "provenance": [],
      "authorship_tag": "ABX9TyOU5vCdJPb+nSlwkQ0tzTvH",
      "include_colab_link": true
    },
    "kernelspec": {
      "name": "python3",
      "display_name": "Python 3"
    },
    "language_info": {
      "name": "python"
    }
  },
  "cells": [
    {
      "cell_type": "markdown",
      "metadata": {
        "id": "view-in-github",
        "colab_type": "text"
      },
      "source": [
        "<a href=\"https://colab.research.google.com/github/Abuzar51214/OpenAI-Agent-SDK/blob/main/Dataclass.ipynb\" target=\"_parent\"><img src=\"https://colab.research.google.com/assets/colab-badge.svg\" alt=\"Open In Colab\"/></a>"
      ]
    },
    {
      "cell_type": "code",
      "execution_count": null,
      "metadata": {
        "id": "aWVt29J_MjAn"
      },
      "outputs": [],
      "source": [
        "from dataclasses import dataclass"
      ]
    },
    {
      "cell_type": "code",
      "source": [
        "#Instance variable and Instances method/function\n",
        "from typing import ClassVar\n",
        "\n",
        "@dataclass\n",
        "class American:\n",
        "  name:str\n",
        "  age:int\n",
        "  weight:float\n",
        "                #generics\n",
        "  language:ClassVar[str]=\"English\"\n",
        "  national_food: ClassVar[str] = \"Hamburger\"\n",
        "  normal_body_temperature: ClassVar[float] = 98.6\n",
        "\n",
        "  def speak(self):\n",
        "    return f\"{self.name} is speaking {American.language}\"\n",
        "  def eat(self):\n",
        "    return f\"{self.name} is eating..\"\n",
        "\n",
        "  @staticmethod\n",
        "  def country_language():\n",
        "    return American.language\n",
        "  @staticmethod\n",
        "  def public_food():\n",
        "    return American.national_food\n",
        "  @staticmethod\n",
        "  def body_temp():\n",
        "    return American.normal_body_temperature"
      ],
      "metadata": {
        "id": "klJoEVZfMxcI"
      },
      "execution_count": null,
      "outputs": []
    },
    {
      "cell_type": "code",
      "source": [
        "American.country_language()\n",
        "# American.public_food()\n",
        "# American.body_temp()"
      ],
      "metadata": {
        "colab": {
          "base_uri": "https://localhost:8080/",
          "height": 35
        },
        "id": "EgdazkBp5p1G",
        "outputId": "372c2d8a-2789-4993-a2c8-8c8e1add7cd4"
      },
      "execution_count": null,
      "outputs": [
        {
          "output_type": "execute_result",
          "data": {
            "text/plain": [
              "'English'"
            ],
            "application/vnd.google.colaboratory.intrinsic+json": {
              "type": "string"
            }
          },
          "metadata": {},
          "execution_count": 42
        }
      ]
    },
    {
      "cell_type": "code",
      "source": [
        "john=American(name=\"john\",age=20,weight=45.9)\n",
        "print(john.speak())\n",
        "print(john.eat())\n"
      ],
      "metadata": {
        "colab": {
          "base_uri": "https://localhost:8080/"
        },
        "id": "Iqe2ZdahQOh-",
        "outputId": "303ba163-e00c-4546-9d01-440937898d6b"
      },
      "execution_count": null,
      "outputs": [
        {
          "output_type": "stream",
          "name": "stdout",
          "text": [
            "john is speaking English\n",
            "john is eating..\n"
          ]
        }
      ]
    },
    {
      "cell_type": "code",
      "source": [
        "print(john)\n",
        "print(john.name)\n",
        "print(john.age)\n",
        "print(john.weight)\n",
        "print(American.language)\n",
        "\n",
        "\n"
      ],
      "metadata": {
        "colab": {
          "base_uri": "https://localhost:8080/"
        },
        "id": "P735tbAUv0Pp",
        "outputId": "2eb2a552-85df-4119-81da-63c95db27593"
      },
      "execution_count": null,
      "outputs": [
        {
          "output_type": "stream",
          "name": "stdout",
          "text": [
            "American(name='john', age=20, weight=45.9)\n",
            "john\n",
            "20\n",
            "45.9\n",
            "English\n"
          ]
        }
      ]
    },
    {
      "cell_type": "code",
      "source": [
        "@dataclass\n",
        "class Human:\n",
        "  name:str\n",
        "  age:int\n",
        "\n",
        "  def greet(self):\n",
        "    return f\"Hi, I am {self.name}\"\n",
        "  def work(self):\n",
        "    return f\"I am working\"\n",
        "  def __call__(self):\n",
        "    return f\"Hello {self.name}\""
      ],
      "metadata": {
        "id": "iLxDD66YTFrv"
      },
      "execution_count": null,
      "outputs": []
    },
    {
      "cell_type": "code",
      "source": [
        "obj1=Human(name=\"Abuzar\",age=21)\n",
        "print(obj1.name)\n",
        "print(obj1.age)\n",
        "print(obj1.greet())\n",
        "print(obj1.work())\n"
      ],
      "metadata": {
        "colab": {
          "base_uri": "https://localhost:8080/"
        },
        "id": "CtcMPH08TqG_",
        "outputId": "82e6371a-37bd-44c6-bacd-735f8eae0645"
      },
      "execution_count": null,
      "outputs": [
        {
          "output_type": "stream",
          "name": "stdout",
          "text": [
            "Abuzar\n",
            "21\n",
            "Hi, I am Abuzar\n",
            "I am working\n"
          ]
        }
      ]
    },
    {
      "cell_type": "code",
      "source": [
        "obj1()"
      ],
      "metadata": {
        "colab": {
          "base_uri": "https://localhost:8080/",
          "height": 35
        },
        "id": "QhYt1PQ-T9hG",
        "outputId": "2a505016-0167-44ce-a192-dc8d8949ad04"
      },
      "execution_count": null,
      "outputs": [
        {
          "output_type": "execute_result",
          "data": {
            "text/plain": [
              "'Hello Abuzar'"
            ],
            "application/vnd.google.colaboratory.intrinsic+json": {
              "type": "string"
            }
          },
          "metadata": {},
          "execution_count": 8
        }
      ]
    },
    {
      "cell_type": "code",
      "source": [
        "#Instance variable and Instances method/function\n",
        "from typing import ClassVar\n",
        "\n",
        "@dataclass\n",
        "class American:\n",
        "  name:str\n",
        "  age:int\n",
        "  weight:float\n",
        "  eat: ClassVar[str]=\"APPLE\"\n",
        "                #generics\n",
        "  language:ClassVar[str]=\"English\"\n",
        "\n",
        "  def speak(self):\n",
        "    return f\"{self.name} is speaking {American.language}\"\n",
        "  def protien(self):\n",
        "    return f\"{self.name} is eating {American.eat}\"\n",
        "\n",
        "  @staticmethod\n",
        "  def country_language():\n",
        "    return American.language"
      ],
      "metadata": {
        "id": "n4cVhxMVQyYb"
      },
      "execution_count": null,
      "outputs": []
    },
    {
      "cell_type": "code",
      "source": [
        "obj1=American(name=\"Abuzar\",age=21,weight=55)\n",
        "print(obj1.speak())\n",
        "print(obj1.protien())\n"
      ],
      "metadata": {
        "colab": {
          "base_uri": "https://localhost:8080/"
        },
        "id": "FkKr59RURHal",
        "outputId": "3e02450a-07ef-45ab-9a07-de874cbc3dfa"
      },
      "execution_count": null,
      "outputs": [
        {
          "output_type": "stream",
          "name": "stdout",
          "text": [
            "Abuzar is speaking English\n",
            "Abuzar is eating APPLE\n"
          ]
        }
      ]
    },
    {
      "cell_type": "code",
      "source": [
        "American.country_language()"
      ],
      "metadata": {
        "colab": {
          "base_uri": "https://localhost:8080/",
          "height": 35
        },
        "id": "xDt-aJZirWIJ",
        "outputId": "f342f185-3126-4504-9e02-b1c9f89dab20"
      },
      "execution_count": null,
      "outputs": [
        {
          "output_type": "execute_result",
          "data": {
            "text/plain": [
              "'English'"
            ],
            "application/vnd.google.colaboratory.intrinsic+json": {
              "type": "string"
            }
          },
          "metadata": {},
          "execution_count": 34
        }
      ]
    }
  ]
}